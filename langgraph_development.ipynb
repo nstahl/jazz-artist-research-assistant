{
 "cells": [
  {
   "cell_type": "markdown",
   "metadata": {},
   "source": [
    "# LangGraph Development Notebook\n",
    "\n",
    "This notebook is set up for developing and testing LangGraph components. It includes:\n",
    "- Environment setup\n",
    "- Basic graph structure\n",
    "- Example nodes and tools\n",
    "- Testing cells"
   ]
  },
  {
   "cell_type": "code",
   "execution_count": 65,
   "metadata": {},
   "outputs": [],
   "source": [
    "# Import required packages\n",
    "from dotenv import load_dotenv\n",
    "import os\n",
    "from langchain_openai import ChatOpenAI\n",
    "\n",
    "# Load environment variables\n",
    "load_dotenv()\n",
    "\n",
    "# Initialize the LLM\n",
    "llm = ChatOpenAI(temperature=0)"
   ]
  },
  {
   "cell_type": "markdown",
   "metadata": {},
   "source": [
    "## Define tools\n",
    "\n",
    "Define your custom tools here. Each tool should be a function with type hints."
   ]
  },
  {
   "cell_type": "code",
   "execution_count": 66,
   "metadata": {},
   "outputs": [],
   "source": [
    "from typing import Optional, Any, Dict\n",
    "from tavily import TavilyClient\n",
    "\n",
    "def tavily_custom_search(query: str, include_answer: Optional[str] = None) -> Dict[Any, Any]:\n",
    "    \"\"\"\n",
    "    Custom Tavily search tool that allows direct configuration of the search.\n",
    "    \n",
    "    Args:\n",
    "        query: The search query\n",
    "        search_type: Type of search (\"search\", \"answer\", or \"advanced\")\n",
    "        \n",
    "    Returns:\n",
    "        Dict containing search results\n",
    "    \"\"\"\n",
    "    client = TavilyClient(api_key=os.getenv(\"TAVILY_API_KEY\"))\n",
    "    \n",
    "    # Build search parameters\n",
    "    search_params = {\n",
    "        \"query\": query,\n",
    "        \"search_depth\": \"advanced\",\n",
    "        \"max_results\": 10,\n",
    "    }\n",
    "    \n",
    "    # Only add include_answer if it's provided\n",
    "    if include_answer is not None:\n",
    "        search_params[\"include_answer\"] = include_answer\n",
    "    \n",
    "    response = client.search(**search_params)\n",
    "    \n",
    "    return response\n",
    "\n"
   ]
  },
  {
   "cell_type": "markdown",
   "metadata": {},
   "source": [
    "## Test custom search tool\n",
    "\n",
    "### Biography"
   ]
  },
  {
   "cell_type": "code",
   "execution_count": 67,
   "metadata": {},
   "outputs": [
    {
     "name": "stdout",
     "output_type": "stream",
     "text": [
      "\n",
      "\n",
      "Advanced answer\n",
      "Asaf Yuria is an Israeli-born saxophonist and composer based in New York City. Born in Tel Aviv in 1985, he began playing saxophone at age nine and was performing in local Tel Aviv clubs while still a teenager. Yuria graduated with honors from the prestigious New School for Jazz and Contemporary Music in 2012, where he studied under mentors like Billy Harper, George Cables, and Reggie Workman. He has been a key member of renowned bassist Omer Avital's quintet for several years and released his debut album \"Papa Wawa\" in 2018. Yuria has performed with notable musicians such as Jimmy Cobb and Kirk Lightsey, and leads his own quartet which has played at venues like Smalls Jazz Club in New York. His music is influenced by jazz greats like John Coltrane and Charlie Parker, and he is considered one of the leading young voices on the New York jazz scene.\n",
      "\n",
      "\n",
      "Basic answer\n",
      "Asaf Yuria is a saxophonist born in 1985, known for his work with the Asaf Yuria Quartet and collaborations with notable musicians. He graduated from the New School for Jazz and Contemporary Music and released his debut album, \"Papa Wawa,\" in 2018. His quartet performed live at Smalls Jazz Club in New York.\n"
     ]
    }
   ],
   "source": [
    "result = tavily_custom_search(query=\"Asaf Yuria Quartet biography\", include_answer=\"advanced\")\n",
    "print(\"\\n\\nAdvanced answer\")\n",
    "print(result[\"answer\"])\n",
    "\n",
    "result = tavily_custom_search(query=\"Asaf Yuria Quartet biography\", include_answer=\"basic\")\n",
    "print(\"\\n\\nBasic answer\")\n",
    "print(result[\"answer\"])\n"
   ]
  },
  {
   "cell_type": "markdown",
   "metadata": {},
   "source": [
    "### Official website"
   ]
  },
  {
   "cell_type": "code",
   "execution_count": 68,
   "metadata": {},
   "outputs": [
    {
     "name": "stdout",
     "output_type": "stream",
     "text": [
      "\n",
      "\n",
      "Basic answer\n",
      "The official website for Asaf Yuria Quartet is https://www.asafyuria.com/. This site includes information about his music and performances.\n"
     ]
    }
   ],
   "source": [
    "result = tavily_custom_search(query=\"Asaf Yuria Quartet official website -- include url\", include_answer=\"basic\")\n",
    "print(\"\\n\\nBasic answer\")\n",
    "print(result[\"answer\"])"
   ]
  },
  {
   "cell_type": "markdown",
   "metadata": {},
   "source": [
    "### Instagram"
   ]
  },
  {
   "cell_type": "code",
   "execution_count": 69,
   "metadata": {},
   "outputs": [
    {
     "name": "stdout",
     "output_type": "stream",
     "text": [
      "\n",
      "\n",
      "Basic answer\n",
      "Asaf Yuria Quartet's official Instagram handle is @asafyuria. The URL is https://www.instagram.com/asafyuria/.\n"
     ]
    }
   ],
   "source": [
    "result = tavily_custom_search(query=\"Asaf Yuria Quartet official instagram handle -- include instagram handle and url\", include_answer=\"basic\")\n",
    "print(\"\\n\\nBasic answer\")\n",
    "print(result[\"answer\"])"
   ]
  },
  {
   "cell_type": "markdown",
   "metadata": {},
   "source": [
    "### Youtube"
   ]
  },
  {
   "cell_type": "code",
   "execution_count": 70,
   "metadata": {},
   "outputs": [
    {
     "name": "stdout",
     "output_type": "stream",
     "text": [
      "['https://www.youtube.com/watch?v=XrpKLTsYtAc', 'https://www.youtube.com/watch?v=751brqsgHUY', 'https://www.youtube.com/watch?v=ewxrkaH6cFI', 'https://www.youtube.com/user/fuzzfuzzify', 'https://www.youtube.com/watch?v=UXBKZgD14n4', 'https://www.youtube.com/watch?v=z76a-0QSRyk', 'https://www.youtube.com/watch?v=jD3uE6pG0ho', 'https://www.youtube.com/watch?v=sA8mtTeT4UM', 'https://www.youtube.com/watch?v=p2dDsAZJ6XA']\n"
     ]
    }
   ],
   "source": [
    "result = tavily_custom_search(query=\"Asaf Yuria Quartet performance youtube videos\")\n",
    "print([result[\"url\"] for result in result[\"results\"] if result[\"url\"].startswith(\"https://www.youtube.com\")])"
   ]
  },
  {
   "cell_type": "markdown",
   "metadata": {},
   "source": [
    "## Define custom state object\n",
    "\n",
    "Define custom state object for artist profile."
   ]
  },
  {
   "cell_type": "code",
   "execution_count": 71,
   "metadata": {},
   "outputs": [],
   "source": [
    "from typing import List, Optional\n",
    "from langchain_core.messages import BaseMessage\n",
    "from dataclasses import dataclass\n",
    "\n",
    "@dataclass\n",
    "class ArtistState:\n",
    "    artist_name: str\n",
    "    messages: List[BaseMessage]\n",
    "    website: Optional[str] = None\n",
    "    instagram: Optional[str] = None\n",
    "    youtube_urls: List[str] = None\n",
    "    biography: Optional[str] = None\n",
    "\n",
    "    def __str__(self) -> str:\n",
    "        return f\"\"\"\n",
    "Artist: {self.artist_name}\n",
    "Website: {self.website or 'Not found'}\n",
    "Instagram: {self.instagram or 'Not found'}\n",
    "YouTube URLs: {', '.join(self.youtube_urls) if self.youtube_urls else 'None'}\n",
    "Biography: {'Found' if self.biography else 'Not found'}\n",
    "Messages: {len(self.messages)} messages in conversation\n",
    "\"\"\"\n"
   ]
  },
  {
   "cell_type": "markdown",
   "metadata": {},
   "source": [
    "## Define nodes\n",
    "\n",
    "Define nodes for various aspects of the artist's profile."
   ]
  },
  {
   "cell_type": "code",
   "execution_count": 96,
   "metadata": {},
   "outputs": [],
   "source": [
    "from langchain_core.messages import AIMessage\n",
    "\n",
    "def generate_bio(state: ArtistState):\n",
    "    result = tavily_custom_search(query=f\"{state.artist_name} biography\", \n",
    "                                  include_answer=\"advanced\")\n",
    "    new_biography = result[\"answer\"]\n",
    "\n",
    "    new_message = f\"I generated this biography:\\n\\n{new_biography}\"\n",
    "\n",
    "    # Return a NEW state object\n",
    "    return ArtistState(\n",
    "        artist_name=state.artist_name,\n",
    "        messages=state.messages + [AIMessage(content=new_message)],\n",
    "        website=state.website,\n",
    "        instagram=state.instagram,\n",
    "        youtube_urls=state.youtube_urls,\n",
    "        biography=new_biography\n",
    "    )\n",
    "\n",
    "def find_website(state: ArtistState):\n",
    "    result = tavily_custom_search(query=f\"{state.artist_name} official website -- include url\", \n",
    "                                  include_answer=\"basic\")\n",
    "    website_anwer = result[\"answer\"]\n",
    "\n",
    "    new_message = f\"I found this answer to my website search:\\n\\n{website_anwer}\"\n",
    "    all_messages = state.messages + [AIMessage(content=new_message)]\n",
    "\n",
    "    import re\n",
    "    url_pattern = re.compile(r'https?://(?:www\\.)?[-a-zA-Z0-9@:%._\\+~#=]{1,256}\\.[a-zA-Z0-9()]{1,6}\\b[-a-zA-Z0-9()@:%_\\+.~#?&//=]*')\n",
    "    url_match = url_pattern.search(website_anwer)\n",
    "    website = url_match.group(0).rstrip(\".\") if url_match else None\n",
    "    new_message = f\"I extracted this website from the answer:\\n\\n{website}\"\n",
    "    all_messages = all_messages + [AIMessage(content=new_message)]\n",
    "\n",
    "    # Return a NEW state object\n",
    "    return ArtistState(\n",
    "        artist_name=state.artist_name,\n",
    "        messages=all_messages,\n",
    "        website=website,\n",
    "        instagram=state.instagram,\n",
    "        youtube_urls=state.youtube_urls,\n",
    "        biography=state.biography\n",
    "    )\n",
    "\n",
    "def find_instagram(state: ArtistState):\n",
    "    result = tavily_custom_search(query=f\"{state.artist_name} official instagram handle -- include instagram handle and url\", include_answer=\"basic\")\n",
    "    instagram_answer = result[\"answer\"]\n",
    "\n",
    "    new_message = f\"I found this answer to my instagram search:\\n\\n{instagram_answer}\"\n",
    "    all_messages = state.messages + [AIMessage(content=new_message)]\n",
    "\n",
    "    import re\n",
    "    url_pattern = re.compile(r'https?://(?:www\\.)?[-a-zA-Z0-9@:%._\\+~#=]{1,256}\\.[a-zA-Z0-9()]{1,6}\\b[-a-zA-Z0-9()@:%_\\+.~#?&//=]*')\n",
    "    url_match = url_pattern.search(instagram_answer)\n",
    "    instagram = url_match.group(0).rstrip(\".\") if url_match else None\n",
    "    new_message = f\"I extracted this instagram from the answer:\\n\\n{instagram}\"\n",
    "    all_messages = all_messages + [AIMessage(content=new_message)]\n",
    "\n",
    "    # Return a NEW state object\n",
    "    return ArtistState(\n",
    "        artist_name=state.artist_name,\n",
    "        messages=all_messages,\n",
    "        website=state.website,\n",
    "        instagram=instagram,\n",
    "        youtube_urls=state.youtube_urls,\n",
    "        biography=state.biography\n",
    "    )\n",
    "\n",
    "def find_youtube_videos(state: ArtistState):\n",
    "    result = tavily_custom_search(query=f\"{state.artist_name} performance youtube videos\")\n",
    "    youtube_videos = [search_result[\"url\"] for search_result in result[\"results\"] \\\n",
    "                      if search_result[\"url\"].startswith(\"https://www.youtube.com\")]\n",
    "\n",
    "    new_message = f\"I found {len(youtube_videos)} youtube videos for {state.artist_name}\"\n",
    "    \n",
    "    if len(youtube_videos) > 0:\n",
    "        video_urls_message = ', '.join(youtube_videos)\n",
    "        new_message = new_message + \"\\n\\n\" + video_urls_message\n",
    "\n",
    "    all_messages = state.messages + [AIMessage(content=new_message)]\n",
    "        \n",
    "\n",
    "    # Return a NEW state object\n",
    "    return ArtistState(\n",
    "        artist_name=state.artist_name,\n",
    "        messages=all_messages,\n",
    "        website=state.website,\n",
    "        instagram=state.instagram,\n",
    "        youtube_urls=youtube_videos,\n",
    "        biography=state.biography\n",
    "    )"
   ]
  },
  {
   "cell_type": "markdown",
   "metadata": {},
   "source": [
    "## Create graph structure\n",
    "\n",
    "Define your graph structure and nodes here."
   ]
  },
  {
   "cell_type": "code",
   "execution_count": 97,
   "metadata": {},
   "outputs": [
    {
     "data": {
      "image/png": "[encoded data removed]",
      "text/plain": [
       "<IPython.core.display.Image object>"
      ]
     },
     "metadata": {},
     "output_type": "display_data"
    }
   ],
   "source": [
    "\n",
    "from IPython.display import Image, display\n",
    "from langgraph.graph import StateGraph, START, END\n",
    "\n",
    "# Build graph\n",
    "builder = StateGraph(ArtistState)\n",
    "builder.add_node(\"generate_bio\", generate_bio)\n",
    "builder.add_node(\"find_website\", find_website)\n",
    "builder.add_node(\"find_instagram\", find_instagram)\n",
    "builder.add_node(\"find_youtube_videos\", find_youtube_videos)\n",
    "\n",
    "builder.add_edge(START, \"generate_bio\")\n",
    "builder.add_edge(\"generate_bio\", \"find_website\")\n",
    "builder.add_edge(\"find_website\", \"find_instagram\")\n",
    "builder.add_edge(\"find_instagram\", \"find_youtube_videos\")\n",
    "builder.add_edge(\"find_youtube_videos\", END)\n",
    "\n",
    "graph = builder.compile()\n",
    "\n",
    "# View\n",
    "display(Image(graph.get_graph().draw_mermaid_png()))"
   ]
  },
  {
   "cell_type": "markdown",
   "metadata": {},
   "source": [
    "## Test the Graph\n",
    "\n",
    "Test your graph with different inputs and see the results."
   ]
  },
  {
   "cell_type": "code",
   "execution_count": 98,
   "metadata": {},
   "outputs": [
    {
     "name": "stdout",
     "output_type": "stream",
     "text": [
      "================================\u001b[1m Human Message \u001b[0m=================================\n",
      "\n",
      "Asaf Yuria Quartet\n",
      "==================================\u001b[1m Ai Message \u001b[0m==================================\n",
      "\n",
      "I generated this biography:\n",
      "\n",
      "Asaf Yuria is an Israeli saxophonist and composer born in Tel Aviv in 1985. He began playing saxophone at age nine and performed in local Tel Aviv clubs as a teenager before moving to New York City to pursue his jazz career. Yuria graduated with honors from the New School for Jazz and Contemporary Music, where he studied under mentors like Billy Harper, George Cables, and Reggie Workman. He has been an integral part of bassist Omer Avital's quintet for several years and released his debut album \"Papa Wawa\" in 2018. Yuria's sophomore album \"Exorcisms\" came out in 2021, featuring a lineup of top New York jazz musicians. He continues to perform regularly, including with his quartet at venues like Smalls Jazz Club in New York City, showcasing his inventive horn arrangements and captivating solo work that draws from the jazz combo traditions of Art Blakey and Lee Morgan.\n",
      "==================================\u001b[1m Ai Message \u001b[0m==================================\n",
      "\n",
      "I found this answer to my website search:\n",
      "\n",
      "The official website for Asaf Yuria Quartet is https://www.asafyuria.com/. This site includes information about his music and performances.\n",
      "==================================\u001b[1m Ai Message \u001b[0m==================================\n",
      "\n",
      "I extracted this website from the answer:\n",
      "\n",
      "https://www.asafyuria.com/.\n",
      "==================================\u001b[1m Ai Message \u001b[0m==================================\n",
      "\n",
      "I found this answer to my instagram search:\n",
      "\n",
      "Asaf Yuria Quartet's official Instagram handle is @asafyuria. The URL is https://www.instagram.com/asafyuria/.\n",
      "==================================\u001b[1m Ai Message \u001b[0m==================================\n",
      "\n",
      "I extracted this instagram from the answer:\n",
      "\n",
      "https://www.instagram.com/asafyuria/.\n",
      "==================================\u001b[1m Ai Message \u001b[0m==================================\n",
      "\n",
      "I found 9 youtube videos for Asaf Yuria Quartet\n",
      "\n",
      "https://www.youtube.com/watch?v=XrpKLTsYtAc, https://www.youtube.com/watch?v=751brqsgHUY, https://www.youtube.com/watch?v=ewxrkaH6cFI, https://www.youtube.com/user/fuzzfuzzify, https://www.youtube.com/watch?v=UXBKZgD14n4, https://www.youtube.com/watch?v=z76a-0QSRyk, https://www.youtube.com/watch?v=jD3uE6pG0ho, https://www.youtube.com/watch?v=sA8mtTeT4UM, https://www.youtube.com/watch?v=p2dDsAZJ6XA\n",
      "\n",
      "\n",
      "\n",
      "\n",
      "Artist: Asaf Yuria Quartet\n",
      "Website: https://www.asafyuria.com/.\n",
      "Instagram: https://www.instagram.com/asafyuria/.\n",
      "YouTube URLs: https://www.youtube.com/watch?v=XrpKLTsYtAc, https://www.youtube.com/watch?v=751brqsgHUY, https://www.youtube.com/watch?v=ewxrkaH6cFI, https://www.youtube.com/user/fuzzfuzzify, https://www.youtube.com/watch?v=UXBKZgD14n4, https://www.youtube.com/watch?v=z76a-0QSRyk, https://www.youtube.com/watch?v=jD3uE6pG0ho, https://www.youtube.com/watch?v=sA8mtTeT4UM, https://www.youtube.com/watch?v=p2dDsAZJ6XA\n",
      "Biography: Found\n",
      "Messages: 7 messages in conversation\n",
      "\n"
     ]
    }
   ],
   "source": [
    "from langchain_core.messages import HumanMessage\n",
    "\n",
    "artist_name = \"Asaf Yuria Quartet\"\n",
    "\n",
    "# init artist state\n",
    "init_artist_state = ArtistState(\n",
    "    artist_name=artist_name,\n",
    "    messages=[HumanMessage(content=artist_name)])\n",
    "\n",
    "# Get result from graph\n",
    "result = graph.invoke(init_artist_state)\n",
    "\n",
    "# Access messages (using dictionary access since it's an AddableValuesDict)\n",
    "for message in result[\"messages\"]:\n",
    "    message.pretty_print()\n",
    "\n",
    "artist_state_complete = ArtistState(**result)\n",
    "\n",
    "# Access the website\n",
    "print(\"\\n\\n\")\n",
    "print(artist_state_complete)\n"
   ]
  },
  {
   "cell_type": "markdown",
   "metadata": {},
   "source": [
    "## Debugging Tips\n",
    "\n",
    "1. Use `%%debug` magic command for step-by-step debugging\n",
    "2. Print intermediate states\n",
    "3. Test individual components separately"
   ]
  }
 ],
 "metadata": {
  "kernelspec": {
   "display_name": "Python 3 (ipykernel)",
   "language": "python",
   "name": "python3"
  },
  "language_info": {
   "codemirror_mode": {
    "name": "ipython",
    "version": 3
   },
   "file_extension": ".py",
   "mimetype": "text/x-python",
   "name": "python",
   "nbconvert_exporter": "python",
   "pygments_lexer": "ipython3",
   "version": "3.12.0"
  }
 },
 "nbformat": 4,
 "nbformat_minor": 4
}
