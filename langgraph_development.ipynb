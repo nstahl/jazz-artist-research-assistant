{
 "cells": [
  {
   "cell_type": "markdown",
   "metadata": {},
   "source": [
    "# LangGraph Development Notebook\n",
    "\n",
    "This notebook is set up for developing and testing LangGraph components. It includes:\n",
    "- Environment setup\n",
    "- Basic graph structure\n",
    "- Example nodes and tools\n",
    "- Testing cells"
   ]
  },
  {
   "cell_type": "code",
   "execution_count": 24,
   "metadata": {},
   "outputs": [],
   "source": [
    "# Import required packages\n",
    "from dotenv import load_dotenv\n",
    "import os\n",
    "from langchain_openai import ChatOpenAI\n",
    "\n",
    "# Load environment variables\n",
    "load_dotenv()\n",
    "\n",
    "# Initialize the LLM\n",
    "llm = ChatOpenAI(temperature=0)"
   ]
  },
  {
   "cell_type": "markdown",
   "metadata": {},
   "source": [
    "## Define tools\n",
    "\n",
    "Define your custom tools here. Each tool should be a function with type hints."
   ]
  },
  {
   "cell_type": "code",
   "execution_count": 25,
   "metadata": {},
   "outputs": [],
   "source": [
    "# Create tavily search tool\n",
    "from langchain_community.tools.tavily_search import TavilySearchResults\n",
    "\n",
    "# Create tavily search tool with API key from environment\n",
    "tavily_tool = TavilySearchResults(\n",
    "    max_results=5,\n",
    "    api_key=os.getenv(\"TAVILY_API_KEY\")\n",
    ")"
   ]
  },
  {
   "cell_type": "markdown",
   "metadata": {},
   "source": [
    "## Define custom state object\n",
    "\n",
    "Define custom state object for artist profile."
   ]
  },
  {
   "cell_type": "code",
   "execution_count": 26,
   "metadata": {},
   "outputs": [],
   "source": [
    "from typing import List, Optional\n",
    "from langchain_core.messages import BaseMessage\n",
    "from dataclasses import dataclass\n",
    "\n",
    "@dataclass\n",
    "class ArtistState:\n",
    "    messages: List[BaseMessage]\n",
    "    artist_website: Optional[str] = None"
   ]
  },
  {
   "cell_type": "markdown",
   "metadata": {},
   "source": [
    "## Define web search node\n",
    "\n",
    "Define node to search web for artist using tavily tool."
   ]
  },
  {
   "cell_type": "code",
   "execution_count": 27,
   "metadata": {},
   "outputs": [],
   "source": [
    "from langchain_core.messages import AIMessage\n",
    "\n",
    "def search_artist(state: ArtistState):\n",
    "    artist_name = state.messages[-1].content\n",
    "    search_results = tavily_tool.invoke(f\"{artist_name} official website\")\n",
    "\n",
    "    formatted_results = \"\\n\".join([\n",
    "        f\"Title: {result['title']}\\nURL: {result['url']}\\nSnippet: {result['content']}\\n\"\n",
    "        for result in search_results\n",
    "    ])\n",
    "    return ArtistState(\n",
    "        messages=[\n",
    "            AIMessage(\n",
    "                content=(\n",
    "                    f\"Here are the search results:\\n\\n\"\n",
    "                    f\"{formatted_results}\\n\\n\"\n",
    "                    f\"Which of these appears to be the official website for {artist_name}? \"\n",
    "                    \"Please return just the website URL if you find an official website,\\n\"\n",
    "                    \"or return None if none appear official.\"\n",
    "                )\n",
    "            )\n",
    "        ]\n",
    "    )"
   ]
  },
  {
   "cell_type": "markdown",
   "metadata": {},
   "source": [
    "## Define processing node\n",
    "\n",
    "A node that processes the web results to return a personal homepage for the band -- or nothing if none of the results are convincing."
   ]
  },
  {
   "cell_type": "code",
   "execution_count": 28,
   "metadata": {},
   "outputs": [],
   "source": [
    "def process_search_results(state: ArtistState):\n",
    "    # Ask LLM to identify official website from results\n",
    "    llm_response = llm.invoke(state.messages[-1].content)\n",
    "    \n",
    "    # Clean up response to get just URL or None\n",
    "    website = llm_response.content.strip()\n",
    "    if website.lower() == 'none':\n",
    "        website = None\n",
    "\n",
    "    return ArtistState(\n",
    "        messages=[\n",
    "            AIMessage(content=f\"I've processed the search results and found the following:\\n\\n{llm_response.content}\")\n",
    "        ],\n",
    "        artist_website=website\n",
    "    )"
   ]
  },
  {
   "cell_type": "markdown",
   "metadata": {},
   "source": [
    "## Create graph structure\n",
    "\n",
    "Define your graph structure and nodes here."
   ]
  },
  {
   "cell_type": "code",
   "execution_count": 29,
   "metadata": {},
   "outputs": [
    {
     "data": {
      "image/png": "[encoded data removed]",
      "text/plain": [
       "<IPython.core.display.Image object>"
      ]
     },
     "metadata": {},
     "output_type": "display_data"
    }
   ],
   "source": [
    "\n",
    "from IPython.display import Image, display\n",
    "from langgraph.graph import StateGraph, START, END\n",
    "\n",
    "# Build graph\n",
    "builder = StateGraph(ArtistState)\n",
    "builder.add_node(\"search\", search_artist)\n",
    "builder.add_node(\"process\", process_search_results)\n",
    "\n",
    "builder.add_edge(START, \"search\")\n",
    "builder.add_edge(\"search\", \"process\")\n",
    "builder.add_edge(\"process\", END)\n",
    "\n",
    "graph = builder.compile()\n",
    "\n",
    "# View\n",
    "display(Image(graph.get_graph().draw_mermaid_png()))"
   ]
  },
  {
   "cell_type": "markdown",
   "metadata": {},
   "source": [
    "## Test the Graph\n",
    "\n",
    "Test your graph with different inputs and see the results."
   ]
  },
  {
   "cell_type": "code",
   "execution_count": 30,
   "metadata": {},
   "outputs": [
    {
     "name": "stdout",
     "output_type": "stream",
     "text": [
      "==================================\u001b[1m Ai Message \u001b[0m==================================\n",
      "\n",
      "I've processed the search results and found the following:\n",
      "\n",
      "https://www.asafyuria.com/\n",
      "Artist Website: https://www.asafyuria.com/\n"
     ]
    }
   ],
   "source": [
    "from langchain_core.messages import HumanMessage\n",
    "\n",
    "# Get result from graph\n",
    "result = graph.invoke(ArtistState(\n",
    "    messages=[HumanMessage(content=\"Asaf Yuria Quartet\")],\n",
    "    artist_website=None\n",
    "))\n",
    "\n",
    "# Access messages (using dictionary access since it's an AddableValuesDict)\n",
    "for message in result[\"messages\"]:\n",
    "    message.pretty_print()\n",
    "\n",
    "# Access the website\n",
    "print(f\"Artist Website: {result.get('artist_website')}\")"
   ]
  },
  {
   "cell_type": "markdown",
   "metadata": {},
   "source": [
    "## Debugging Tips\n",
    "\n",
    "1. Use `%%debug` magic command for step-by-step debugging\n",
    "2. Print intermediate states\n",
    "3. Test individual components separately"
   ]
  },
  {
   "cell_type": "code",
   "execution_count": null,
   "metadata": {},
   "outputs": [],
   "source": []
  }
 ],
 "metadata": {
  "kernelspec": {
   "display_name": "Python 3 (ipykernel)",
   "language": "python",
   "name": "python3"
  },
  "language_info": {
   "codemirror_mode": {
    "name": "ipython",
    "version": 3
   },
   "file_extension": ".py",
   "mimetype": "text/x-python",
   "name": "python",
   "nbconvert_exporter": "python",
   "pygments_lexer": "ipython3",
   "version": "3.12.0"
  }
 },
 "nbformat": 4,
 "nbformat_minor": 4
}
